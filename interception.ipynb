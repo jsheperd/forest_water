{
 "cells": [
  {
   "cell_type": "markdown",
   "metadata": {},
   "source": [
    "# Az intercepció hatása a növényzet számára hasznosítható csapadék mértékének alakulására"
   ]
  },
  {
   "cell_type": "markdown",
   "metadata": {},
   "source": [
    "Az erdei fák számára felvehető csapadék mértékét jelentősen befolyásolja az a vízmennyiség, amit a lombfelület megköt és újra elpárologtat anélkül, hogy az elérhetné a talajfelszínt. Hazai környezetben fenyő esetén a talajfelszínen található vastag száraz tűavar ezt a hatás jelentősen fokozhatja. Az élő lomb és a száraz avar együttes hatásaként visszatartott csapadékmennyiség elérheti az 5-10 mm mértéket, ami sok esetben a teljes csapadékesemény 30-50%-át is jelentheti.\n",
    "\n",
    "<img src=\"https://github.com/jsheperd/forest_water/blob/master/img/csapadek.png?raw=true\" width=\"300\" height=\"300\" />\n",
    "\n",
    "### Hipotézis\n",
    "\n",
    "A növényzet számára felvehető csapadék alakulását nem csak az éves csapadékösszeg befolyásolja, de az eloszlási mintázat is meghatározó. Figyelembe kell venni azt, hogy az év adott szakaszában mekkora a lombfelület nagysága, valamint azt, hogy az egyes csapadékesemények mértékének az eloszlása hogyan alakul. A felszíni elfolyást és a mélybeszivárgást első vizsgáatainkben nem vesszük figyelembe.\n",
    "\n",
    "### Felhasznált adatok\n",
    "\n",
    "Az [Országos meteorológia Szolgálat 1901-2010 éghajalati adasorai](http://www.met.hu/eghajlat/magyarorszag_eghajlata/eghajlati_adatsorok/) napi csapdékeseményeket is tartalmaznak, ami alkalmas arra, hogy becsléseket tegyünk az aktuális csapadékesemény intercepciós veszteségére 110 éves időszakra vonatkozóan."
   ]
  },
  {
   "cell_type": "code",
   "execution_count": 99,
   "metadata": {
    "collapsed": false
   },
   "outputs": [
    {
     "data": {
      "text/plain": [
       "<matplotlib.text.Text at 0x16554f98>"
      ]
     },
     "execution_count": 99,
     "metadata": {},
     "output_type": "execute_result"
    },
    {
     "data": {
      "image/png": "[encoded data removed]",
      "text/plain": [
       "<matplotlib.figure.Figure at 0x123b8b70>"
      ]
     },
     "metadata": {},
     "output_type": "display_data"
    }
   ],
   "source": [
    "%matplotlib inline\n",
    "import pandas as pd\n",
    "from pandas import Series, DataFrame, Panel\n",
    "\n",
    "dateparse = lambda x: pd.datetime.strptime(x, '%Y-%m-%d')\n",
    "szo_daily = pd.read_csv('https://raw.githubusercontent.com/jsheperd/forest_water/master/data/SZO_d.txt', \n",
    "                        sep=';',\n",
    "                        parse_dates=['#datum'], \n",
    "                        date_parser=lambda x: pd.datetime.strptime(x, '%Y-%m-%d')\n",
    "                        )\n",
    "\n",
    "\n",
    "plt.plot('#datum', 'd_rs', data=szo_daily)\n",
    "plt.title('Csapadek esemenyek Szombathelyen')"
   ]
  },
  {
   "cell_type": "code",
   "execution_count": 28,
   "metadata": {
    "collapsed": false
   },
   "outputs": [],
   "source": [
    "import matplotlib.pyplot as plt\n",
    "#matplotlib.style.use('ggplot')\n",
    "\n",
    "ts['1980':'1990'].plot()\n",
    "plt.show()\n",
    "\n"
   ]
  }
 ],
 "metadata": {
  "kernelspec": {
   "display_name": "Python 2",
   "language": "python",
   "name": "python2"
  },
  "language_info": {
   "codemirror_mode": {
    "name": "ipython",
    "version": 2
   },
   "file_extension": ".py",
   "mimetype": "text/x-python",
   "name": "python",
   "nbconvert_exporter": "python",
   "pygments_lexer": "ipython2",
   "version": "2.7.11"
  }
 },
 "nbformat": 4,
 "nbformat_minor": 0
}
