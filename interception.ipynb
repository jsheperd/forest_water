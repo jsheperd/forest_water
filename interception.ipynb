{
 "cells": [
  {
   "cell_type": "markdown",
   "metadata": {},
   "source": [
    "# Az intercepció hatása a növényzet számára hasznosítható csapadék mértékének alakulására"
   ]
  },
  {
   "cell_type": "markdown",
   "metadata": {},
   "source": [
    "Az erdei fák számára felvehető csapadék mértékét jelentősen befolyásolja az a vízmennyiség, amit a lombfelület megköt és újra elpárologtat anélkül, hogy az elérhetné a talajfelszínt. Hazai környezetben fenyő esetén a talajfelszínen található vastag száraz tűavar ezt a hatás jelentősen fokozhatja. Az élő lomb és a száraz avar együttes hatásaként visszatartott csapadékmennyiség elérheti az 5-10 mm mértéket, ami sok esetben a teljes csapadékesemény 30-50%-át is jelentheti.\n",
    "\n",
    "<img src=\"https://github.com/jsheperd/forest_water/blob/master/img/csapadek.png?raw=true\" width=\"300\" height=\"300\" />\n",
    "\n",
    "### Hipotézis\n",
    "\n",
    "A növényzet számára felvehető csapadék alakulását nem csak az éves csapadékösszeg befolyásolja, de az eloszlási mintázat is meghatározó. Figyelembe kell venni azt, hogy az év adott szakaszában mekkora a lombfelület nagysága, valamint azt, hogy az egyes csapadékesemények mértékének az eloszlása hogyan alakul. A felszíni elfolyást és a mélybeszivárgást első vizsgáatainkben nem vesszük figyelembe.\n",
    "\n",
    "### Felhasznált adatok\n",
    "\n",
    "Az [Országos meteorológia Szolgálat 1901-2010 éghajalati adasorai](http://www.met.hu/eghajlat/magyarorszag_eghajlata/eghajlati_adatsorok/) napi csapdékeseményeket is tartalmaznak, ami alkalmas arra, hogy becsléseket tegyünk az aktuális csapadékesemény intercepciós veszteségére 110 éves időszakra vonatkozóan."
   ]
  },
  {
   "cell_type": "code",
   "execution_count": 24,
   "metadata": {
    "collapsed": false
   },
   "outputs": [],
   "source": [
    "import pandas as pd\n",
    "from pandas import Series\n",
    "\n",
    "szo_daily = pd.read_csv('https://raw.githubusercontent.com/jsheperd/forest_water/master/data/SZO_d.txt', sep=';')\n",
    "szo_daily['datum'] = pd.to_datetime(szo_daily['#datum'], format='%Y-%m-%d')\n",
    "\n",
    "rng = pd.date_range('1901-01-01', '2010-12-31', freq='d')\n",
    "ts = Series(szo_daily[\"d_rs\"], index=rng)"
   ]
  },
  {
   "cell_type": "code",
   "execution_count": 25,
   "metadata": {
    "collapsed": false
   },
   "outputs": [
    {
     "data": {
      "text/plain": [
       "<matplotlib.axes._subplots.AxesSubplot at 0x71382e8>"
      ]
     },
     "execution_count": 25,
     "metadata": {},
     "output_type": "execute_result"
    }
   ],
   "source": [
    "import matplotlib.pyplot as plt\n",
    "#matplotlib.style.use('ggplot')\n",
    "\n",
    "ts['1980':'1990'].plot()\n",
    "\n"
   ]
  }
 ],
 "metadata": {
  "kernelspec": {
   "display_name": "Python 2",
   "language": "python",
   "name": "python2"
  },
  "language_info": {
   "codemirror_mode": {
    "name": "ipython",
    "version": 2
   },
   "file_extension": ".py",
   "mimetype": "text/x-python",
   "name": "python",
   "nbconvert_exporter": "python",
   "pygments_lexer": "ipython2",
   "version": "2.7.11"
  }
 },
 "nbformat": 4,
 "nbformat_minor": 0
}
